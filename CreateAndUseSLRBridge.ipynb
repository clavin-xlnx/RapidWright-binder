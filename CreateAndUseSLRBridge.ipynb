{
 "cells": [
  {
   "cell_type": "markdown",
   "metadata": {},
   "source": [
    "# RapidWright Tutorial - Create and Use SLR Bridge"
   ]
  }
 ],
 "metadata": {
  "kernelspec": {
   "display_name": "Jython 2.7",
   "language": "python",
   "name": "jython27"
  },
  "language_info": {
   "file_extension": ".py",
   "mimetype": "text/x-python",
   "name": "python",
   "pygments_lexer": "python",
   "version": "2.7.0"
  }
 },
 "nbformat": 4,
 "nbformat_minor": 2
}
