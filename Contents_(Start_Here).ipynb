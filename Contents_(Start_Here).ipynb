{
 "cells": [
  {
   "cell_type": "markdown",
   "metadata": {},
   "source": [
    "# RapidWright Tutorial Contents\n",
    "\n",
    "| **Tutorial Segment** | **Difficulty  <br/>(1=Easy  5=Challenging)** | **Description** | **Tools Used** |\n",
    "|------------------------------|-------------------------------------|-------------------------------------------------------------------------------------|-------------------------------------------------------------------|\n",
    "| [Hello, World!](HelloWorld.ipynb) | 1 | Introduction to RapidWright and tutorials  | RapidWright, Jupyter Notebook, Vivado |\n",
    "| [Pipeline Generator](PipelineGenerator.ipynb) | ? | Simple example of a parameterizable generator | RapidWright, Vivado |\n",
    "| [ILA Probe Re-router](ILAProbeRe-router.ipynb) | 3 | Non-invasive probe routing on a placed and routed implementation. | RapidWright, Jupyter Notebook, Vivado |\n",
    "| [SAT Router](SATRouter.ipynb) | 4 | Use a SAT routing engine to route difficult congestion or partially route a design. | RapidWright, Jupyter Notebook, Vivado, Command Prompt, SAT Engine |\n",
    "| [DIY Pre-implemented Module](DIYPreImplementedModule.ipynb) | 5 | Illustrates how to create, implement and reuse pre-implemented modules | RapidWright, Jupyter Notebook, Vivado |\n",
    "| [Create and Use an SLR Bridge](CreateAndUseSLRBridge.ipynb) | 5 | Use an SLR bridge generator and instantiate it in context of a design. | RapidWright, Vivado |\n",
    "| [Create Netlist from Scratch](EDIFNetlistExample.ipynb) | 3 | Small example illustrating RapidWright netlist APIs for design construction. | RapidWright, Vivado |"
   ]
  }
 ],
 "metadata": {
  "kernelspec": {
   "display_name": "Jython 2.7",
   "language": "python",
   "name": "jython27"
  },
  "language_info": {
   "file_extension": ".py",
   "mimetype": "text/x-python",
   "name": "python",
   "pygments_lexer": "python",
   "version": "2.7.0"
  }
 },
 "nbformat": 4,
 "nbformat_minor": 2
}
