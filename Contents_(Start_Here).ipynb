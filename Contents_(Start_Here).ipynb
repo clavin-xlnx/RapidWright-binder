{
 "cells": [
  {
   "cell_type": "markdown",
   "metadata": {},
   "source": [
    "# RapidWright Tutorial Contents\n",
    "\n",
    "| **Tutorial Segment** | **Difficulty  <br/>(1=Easy  5=More Difficult)** | **Purpose** | **Tools Used** |\n",
    "|------------------------------|-------------------------------------|-------------------------------------------------------------------------------------|-------------------------------------------------------------------|\n",
    "| [Hello, World!](HelloWorld.ipynb) | 1 | Introduction to RapidWright within Jupyter Notebook | RapidWright, Jupyter Notebook, Vivado |\n",
    "| [Pipeline Generator](PipelineGenerator.ipynb) | 2 | How to generate a circuit in RapidWright | RapidWright, Vivado |\n",
    "| [Pre-implemented Module: Part I](Pre-ImplementedModule-Part-I.ipynb) | 3 | How to create a pre-implemented modules | RapidWright, Jupyter Notebook, Vivado |\n",
    "| [Pre-implemented Module: Part II](Pre-ImplementedModule-Part-II.ipynb) | 3 | How to use and relocate pre-implemented modules | RapidWright, Jupyter Notebook, Vivado |\n",
    "| [Probe Re-router](ProbeRe-router.ipynb) | 3 | Fast probe routing on a placed and routed implementation | RapidWright, Jupyter Notebook, Vivado |\n",
    "| [SAT Router](SATRouter.ipynb) | 4 | How to use a SAT engine to solve routing congestion | RapidWright, Jupyter Notebook, Vivado, Command Prompt, SAT Engine |\n",
    "| [Create and Use an SLR Bridge](CreateAndUseSLRBridge.ipynb) | 5 | Combining Vivado and RapidWright generated citcuits | RapidWright, Vivado |\n",
    "| [Create Netlist from Scratch](EDIFNetlistExample.ipynb) | 3 | How to build a netlist from scratch | RapidWright, Vivado |"
   ]
  }
 ],
 "metadata": {
  "kernelspec": {
   "display_name": "Jython 2.7",
   "language": "python",
   "name": "jython27"
  },
  "language_info": {
   "file_extension": ".py",
   "mimetype": "text/x-python",
   "name": "python",
   "pygments_lexer": "python",
   "version": "2.7.0"
  }
 },
 "nbformat": 4,
 "nbformat_minor": 2
}
